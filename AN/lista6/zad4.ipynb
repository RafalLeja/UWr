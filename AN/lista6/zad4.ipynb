{
 "cells": [
  {
   "cell_type": "code",
   "execution_count": 6,
   "id": "3272345f-9702-4f45-88ee-d6817e5b4f8d",
   "metadata": {},
   "outputs": [
    {
     "name": "stdout",
     "output_type": "stream",
     "text": [
      "1.0\n",
      "1.0\n",
      "\u001b[0m\u001b[1m ─────────────────────────────────────────────────────────────────────\u001b[22m\n",
      "\u001b[0m\u001b[1m                    \u001b[22m         Time                    Allocations      \n",
      "                    ───────────────────────   ────────────────────────\n",
      "  Tot / % measured:      3.67s /  99.8%            887KiB /  92.7%    \n",
      "\n",
      " Section    ncalls     time    %tot     avg     alloc    %tot      avg\n",
      " ─────────────────────────────────────────────────────────────────────\n",
      " standard        1    3.63s   99.0%   3.63s    257KiB   31.2%   257KiB\n",
      " szybki          1   36.3ms    1.0%  36.3ms    566KiB   68.8%   566KiB\n",
      "\u001b[0m\u001b[1m ─────────────────────────────────────────────────────────────────────\u001b[22m"
     ]
    },
    {
     "name": "stderr",
     "output_type": "stream",
     "text": [
      "WARNING: redefinition of constant to. This may fail, cause incorrect answers, or produce other errors.\n"
     ]
    }
   ],
   "source": [
    "using Primes\n",
    "using TimerOutputs\n",
    "\n",
    "const to = TimerOutput()\n",
    "\n",
    "function T(n,x)\n",
    "    if n == 0\n",
    "        return 1\n",
    "    end\n",
    "    if n == 1\n",
    "        return x\n",
    "    end\n",
    "    return 2*x*T(n-1,x) - T(n-2,x)\n",
    "end\n",
    "\n",
    "function timeT(n,x)\n",
    "    println(T(n,x))\n",
    "end\n",
    "\n",
    "function fastT(n,x)\n",
    "    czynniki = factor(n)\n",
    "    wynik = x\n",
    "    for (key, val) in czynniki\n",
    "        while val > 0\n",
    "            wynik = T(key, wynik)\n",
    "            val = val - 1\n",
    "        end\n",
    "    end\n",
    "    return wynik\n",
    "end\n",
    "\n",
    "@timeit to \"standard\" timeT(42,0.5)\n",
    "@timeit to \"szybki\" fastT(42,0.5)\n",
    "println(fastT(42,0.5))\n",
    "show(to)\n"
   ]
  },
  {
   "cell_type": "code",
   "execution_count": null,
   "id": "1f8dcfc4-87f8-4730-92d3-7bc91c6dd0e9",
   "metadata": {},
   "outputs": [],
   "source": []
  }
 ],
 "metadata": {
  "kernelspec": {
   "display_name": "Julia 1.9.3",
   "language": "julia",
   "name": "julia-1.9"
  },
  "language_info": {
   "file_extension": ".jl",
   "mimetype": "application/julia",
   "name": "julia",
   "version": "1.9.3"
  }
 },
 "nbformat": 4,
 "nbformat_minor": 5
}
