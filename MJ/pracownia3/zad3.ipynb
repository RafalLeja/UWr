{
 "cells": [
  {
   "cell_type": "code",
   "execution_count": 14,
   "metadata": {},
   "outputs": [],
   "source": [
    "import random\n",
    "\n",
    "literki = ['ą', 'ć', 'ę', 'ł', 'ń', 'ó', 'ś', 'ź', 'ż']\n",
    "litery = ['a', 'c', 'e', 'l', 'n', 'o', 's', 'z', 'z']\n",
    "\n",
    "\n",
    "def letter_size_error(sentence):\n",
    "    words = sentence.split(' ')\n",
    "    n = len(words)\n",
    "    r = random.randint(0, n-1)\n",
    "    words[r] = words[r].upper()\n",
    "    return ' '.join(words)\n",
    "\n",
    "\n",
    "def missing_letter_error(sentence):\n",
    "    words = sentence.split(' ')\n",
    "    n = len(words)\n",
    "    r = random.randint(0, n-1)\n",
    "    m = len(words[r])\n",
    "    while m < 2:\n",
    "        r -= 1\n",
    "        m = len(words[r])\n",
    "\n",
    "    words[r] = words[r][:-1]\n",
    "    return ' '.join(words)\n",
    "\n",
    "\n",
    "def polish_filter(x):\n",
    "    if x in literki:\n",
    "        return litery[literki.index(x)]\n",
    "    else:\n",
    "        return x\n",
    "\n",
    "\n",
    "def polish_error(sentence):\n",
    "    return ''.join(map(polish_filter, sentence))\n",
    "\n",
    "\n",
    "with open('reviews.txt', 'r') as inputF, open('reviews_a.txt', 'w') as outputF:\n",
    "    for line in inputF:\n",
    "        sentiment, review = line.split('#')\n",
    "        review = review.strip()\n",
    "        review = letter_size_error(review)\n",
    "        review = missing_letter_error(review)\n",
    "        review = polish_error(review)\n",
    "        outputF.write(sentiment + '# ' + review + '\\n')"
   ]
  },
  {
   "cell_type": "code",
   "execution_count": 19,
   "metadata": {},
   "outputs": [
    {
     "name": "stdout",
     "output_type": "stream",
     "text": [
      " Jest genialna, napisana z niezwykłą precyzją, zaskakująca.\n"
     ]
    }
   ],
   "source": [
    "import torch\n",
    "from transformers import AutoTokenizer, AutoModelForCausalLM\n",
    "from torch.nn import functional as F\n",
    "import pandas as pd\n",
    "\n",
    "\n",
    "model_name_pap = 'flax-community/papuGaPT2'\n",
    "device = 'cuda' if torch.cuda.is_available() else 'cpu'\n",
    "\n",
    "tokenizerPap = AutoTokenizer.from_pretrained(model_name_pap)\n",
    "modelPap = AutoModelForCausalLM.from_pretrained(model_name_pap).to(device)\n",
    "\n",
    "PROMPT = 'Powiedz to innymi słowami, nie zmieniając wydźwięku zdania: '\n",
    "\n",
    "\n",
    "def rewrite(sentence):\n",
    "    inputs = tokenizerPap(PROMPT + sentence,\n",
    "                          return_tensors='pt').to(device)\n",
    "    outputs = modelPap.generate(**inputs,\n",
    "                                max_length=len(inputs['input_ids'][0]) + 20,\n",
    "                                num_return_sequences=1,\n",
    "                                do_sample=True,\n",
    "                                eos_token_id=tokenizerPap.encode('.')[0],\n",
    "                                pad_token_id=tokenizerPap.encode('.')[0]\n",
    "                                )\n",
    "    return tokenizerPap.decode(outputs[0], skip_special_tokens=True)[len(PROMPT) + len(sentence):]\n",
    "\n",
    "\n",
    "print(rewrite('To jest bardzo dobra książka.'))\n",
    "\n",
    "with open('reviews.txt', 'r') as inputF, open('reviews_b.txt', 'w') as outputF:\n",
    "    for line in inputF:\n",
    "        sentiment, review = line.split('#')\n",
    "        review = review.strip()\n",
    "        review = rewrite(review)\n",
    "        review = review.replace('\\n', ' ')\n",
    "        outputF.write(sentiment + '# ' + review + '\\n')"
   ]
  },
  {
   "cell_type": "code",
   "execution_count": null,
   "metadata": {},
   "outputs": [],
   "source": []
  }
 ],
 "metadata": {
  "kernelspec": {
   "display_name": "Python 3",
   "language": "python",
   "name": "python3"
  },
  "language_info": {
   "codemirror_mode": {
    "name": "ipython",
    "version": 3
   },
   "file_extension": ".py",
   "mimetype": "text/x-python",
   "name": "python",
   "nbconvert_exporter": "python",
   "pygments_lexer": "ipython3",
   "version": "3.10.12"
  }
 },
 "nbformat": 4,
 "nbformat_minor": 2
}
