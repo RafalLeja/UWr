{
 "cells": [
  {
   "cell_type": "code",
   "execution_count": 2,
   "id": "5cd5d3a1",
   "metadata": {},
   "outputs": [
    {
     "name": "stderr",
     "output_type": "stream",
     "text": [
      "/home/prych/.local/lib/python3.10/site-packages/torch/_utils.py:776: UserWarning: TypedStorage is deprecated. It will be removed in the future and UntypedStorage will be the only storage class. This should only matter to you if you are using storages directly.  To access UntypedStorage directly, use tensor.untyped_storage() instead of tensor.storage()\n",
      "  return self.fget.__get__(instance, owner)()\n"
     ]
    }
   ],
   "source": [
    "import torch\n",
    "from transformers import AutoTokenizer, AutoModelForCausalLM\n",
    "from torch.nn import functional as F\n",
    "import random\n",
    "\n",
    "model_name = 'flax-community/papuGaPT2'\n",
    "device = 'cuda'\n",
    "device = 'cpu'\n",
    "\n",
    "tokenizer = AutoTokenizer.from_pretrained(model_name)\n",
    "model = AutoModelForCausalLM.from_pretrained(model_name).to(device)"
   ]
  },
  {
   "cell_type": "code",
   "execution_count": 3,
   "id": "97711c9e",
   "metadata": {},
   "outputs": [
    {
     "data": {
      "text/plain": [
       "GPT2Model(\n",
       "  (wte): Embedding(50257, 768)\n",
       "  (wpe): Embedding(1024, 768)\n",
       "  (drop): Dropout(p=0.0, inplace=False)\n",
       "  (h): ModuleList(\n",
       "    (0-11): 12 x GPT2Block(\n",
       "      (ln_1): LayerNorm((768,), eps=1e-05, elementwise_affine=True)\n",
       "      (attn): GPT2Attention(\n",
       "        (c_attn): Conv1D()\n",
       "        (c_proj): Conv1D()\n",
       "        (attn_dropout): Dropout(p=0.0, inplace=False)\n",
       "        (resid_dropout): Dropout(p=0.0, inplace=False)\n",
       "      )\n",
       "      (ln_2): LayerNorm((768,), eps=1e-05, elementwise_affine=True)\n",
       "      (mlp): GPT2MLP(\n",
       "        (c_fc): Conv1D()\n",
       "        (c_proj): Conv1D()\n",
       "        (act): NewGELUActivation()\n",
       "        (dropout): Dropout(p=0.0, inplace=False)\n",
       "      )\n",
       "    )\n",
       "  )\n",
       "  (ln_f): LayerNorm((768,), eps=1e-05, elementwise_affine=True)\n",
       ")"
      ]
     },
     "execution_count": 3,
     "metadata": {},
     "output_type": "execute_result"
    }
   ],
   "source": [
    "model.transformer"
   ]
  },
  {
   "cell_type": "code",
   "execution_count": 4,
   "id": "a0e3855a",
   "metadata": {},
   "outputs": [
    {
     "name": "stdout",
     "output_type": "stream",
     "text": [
      "[' tramwaj']\n",
      "    1.000000008006178 [ tramwaj]\n",
      "    0.8061304981203956 [ tramwa]\n",
      "    0.8010114845520071 [ tramwaju]\n",
      "    0.7167424512826176 [ autobus]\n",
      "    0.6705698221508032 [ autobusy]\n",
      "    0.6637942545692094 [ autobu]\n",
      "    0.6587696701107498 [ autobusem]\n",
      "    0.658746292534865 [ autobusów]\n",
      "    0.6521036898624094 [ MPK]\n",
      "    0.6469379961958084 [ autobusu]\n",
      "    0.6434066761079417 [ pociągi]\n",
      "    0.6318465077584255 [ taksów]\n",
      "    0.6305248979478794 [ autobusowy]\n",
      "    0.6255215736435352 [ pociągów]\n",
      "    0.6226177871743633 [ wagonów]\n",
      "\n",
      "[' autobus']\n",
      "    1.0000000013046426 [ autobus]\n",
      "    0.8404779537511967 [ autobusy]\n",
      "    0.8221699924934757 [ autobusu]\n",
      "    0.8086090143165041 [ autobusów]\n",
      "    0.7904325026939101 [ autobusem]\n",
      "    0.76564243329477 [ autobu]\n",
      "    0.7481052929685899 [ autobusie]\n",
      "    0.7211276445309808 [ samolot]\n",
      "    0.7167424512826176 [ tramwaj]\n",
      "    0.7166965383574684 [ autokar]\n",
      "    0.6917769454357064 [ pojazd]\n",
      "    0.6882585162572558 [ bus]\n",
      "    0.68645205905681 [ autobusowy]\n",
      "    0.6773121230016468 [ samochód]\n",
      "    0.6699823505618413 [ pociągi]\n",
      "\n",
      "[' komórka']\n",
      "    0.9999999924295375 [ komórka]\n",
      "    0.848273508595098 [ komórkę]\n",
      "    0.8325923448080786 [ komórki]\n",
      "    0.7641112707512608 [ komórek]\n",
      "    0.7412558885487931 [ komórkach]\n",
      "    0.7145632159665204 [ komór]\n",
      "    0.6493977607564009 [ komórkowe]\n",
      "    0.6394678060474257 [ komórkowych]\n",
      "    0.6181271666619991 [ komórkowej]\n",
      "    0.6161061658610439 [ komórkowy]\n",
      "    0.6146747615219363 [ telefonu]\n",
      "    0.6113982664082103 [ telefony]\n",
      "    0.6044662174472555 [ komórkowego]\n",
      "    0.60078032990835 [ telefon]\n",
      "    0.5956854812115108 [ Telefon]\n",
      "\n"
     ]
    }
   ],
   "source": [
    "def tokenize(word):\n",
    "    ids = tokenizer(word, return_tensors='pt')['input_ids'][0]\n",
    "    return [tokenizer.decode(n) for n in ids]\n",
    "\n",
    "def cos(a, b):\n",
    "    return a.dot(b) / (a.dot(a) * b.dot(b)) ** 0.5\n",
    "\n",
    "emb = model.transformer.wte.weight.detach().cpu().numpy()\n",
    "N = 50257\n",
    "\n",
    "words = 'matematyka programowanie sierotka pies kapibara trznadel kot kobieta lubię jabłko banan mężczyzna facet baba babcia dziadek'.split()\n",
    "words = 'lotniskowiec niszczyciel szarlotka kapliczka synagoga koszykówka długopis topologia ginekolog geriatra pierniczki bławatki prezydent presydent'.split()\n",
    "words = 'tramwaj autobus komórka'.split()\n",
    "\n",
    "for w in words:\n",
    "    #tokens = tokenize(' ' + w)\n",
    "    tokens = tokenize(' ' + w)\n",
    "    print (tokens)\n",
    "    token_id = tokenizer.encode(tokens[0])[0]\n",
    "    \n",
    "    score = [(cos(emb[i], emb[token_id]), tokenizer.decode(i)) for i in range(N)]\n",
    "    score.sort(reverse=True)\n",
    "    for s, w in score[:15]:\n",
    "        print ('   ', s, f'[{w}]')\n",
    "    print()\n",
    "    \n"
   ]
  },
  {
   "cell_type": "code",
   "execution_count": 5,
   "id": "fa9b21c5",
   "metadata": {},
   "outputs": [],
   "source": [
    "emb_pos = model.transformer.wpe.weight.detach().cpu().numpy()\n"
   ]
  },
  {
   "cell_type": "code",
   "execution_count": 6,
   "id": "968b779e",
   "metadata": {},
   "outputs": [
    {
     "data": {
      "text/plain": [
       "(1024, 768)"
      ]
     },
     "execution_count": 6,
     "metadata": {},
     "output_type": "execute_result"
    }
   ],
   "source": [
    "emb_pos.shape"
   ]
  },
  {
   "cell_type": "code",
   "execution_count": 12,
   "id": "ab6df50b",
   "metadata": {},
   "outputs": [
    {
     "data": {
      "image/png": "[encoded data removed]",
      "text/plain": [
       "<Figure size 432x288 with 1 Axes>"
      ]
     },
     "metadata": {
      "needs_background": "light"
     },
     "output_type": "display_data"
    }
   ],
   "source": [
    "import numpy as np\n",
    "from sklearn.decomposition import PCA\n",
    "import matplotlib.pyplot as plt\n",
    "%matplotlib inline \n",
    "\n",
    "pca = PCA(n_components=2)\n",
    "X_pca = pca.fit_transform(emb_pos)\n",
    "M = 500\n",
    "S = 10\n",
    "X_pca = X_pca[S:S+M,:]\n",
    "\n",
    "cs = [(1.0, int(k)/M, 0.5*int(k)/M) for k in range(X_pca.shape[0])]\n",
    "\n",
    "# Plot the two most important components\n",
    "plt.scatter(X_pca[:, 0], X_pca[:, 1], alpha=0.5, c=cs)\n",
    "None"
   ]
  },
  {
   "cell_type": "code",
   "execution_count": null,
   "id": "4aca33fc",
   "metadata": {},
   "outputs": [],
   "source": []
  }
 ],
 "metadata": {
  "kernelspec": {
   "display_name": "Python 3 (ipykernel)",
   "language": "python",
   "name": "python3"
  },
  "language_info": {
   "codemirror_mode": {
    "name": "ipython",
    "version": 3
   },
   "file_extension": ".py",
   "mimetype": "text/x-python",
   "name": "python",
   "nbconvert_exporter": "python",
   "pygments_lexer": "ipython3",
   "version": "3.10.12"
  }
 },
 "nbformat": 4,
 "nbformat_minor": 5
}