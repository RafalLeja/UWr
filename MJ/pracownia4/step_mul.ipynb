{
 "cells": [
  {
   "cell_type": "code",
   "execution_count": 76,
   "metadata": {},
   "outputs": [],
   "source": [
    "import torch\n",
    "from torch.utils.data import Dataset\n",
    "from torch.utils.data.dataloader import DataLoader\n",
    "from mingpt.utils import set_seed\n",
    "set_seed(3407)\n",
    "import random"
   ]
  },
  {
   "cell_type": "markdown",
   "metadata": {},
   "source": [
    "## Dataset"
   ]
  },
  {
   "cell_type": "code",
   "execution_count": 77,
   "metadata": {},
   "outputs": [
    {
     "name": "stdout",
     "output_type": "stream",
     "text": [
      "062*536=062*500+062*030+062*006=031000+001860+000372=033232\n"
     ]
    },
    {
     "data": {
      "text/plain": [
       "[0,\n",
       " 6,\n",
       " 2,\n",
       " 12,\n",
       " 5,\n",
       " 3,\n",
       " 6,\n",
       " 11,\n",
       " 0,\n",
       " 6,\n",
       " 2,\n",
       " 12,\n",
       " 5,\n",
       " 0,\n",
       " 0,\n",
       " 10,\n",
       " 0,\n",
       " 6,\n",
       " 2,\n",
       " 12,\n",
       " 0,\n",
       " 3,\n",
       " 0,\n",
       " 10,\n",
       " 0,\n",
       " 6,\n",
       " 2,\n",
       " 12,\n",
       " 0,\n",
       " 0,\n",
       " 6,\n",
       " 11,\n",
       " 0,\n",
       " 3,\n",
       " 1,\n",
       " 0,\n",
       " 0,\n",
       " 0,\n",
       " 10,\n",
       " 0,\n",
       " 0,\n",
       " 1,\n",
       " 8,\n",
       " 6,\n",
       " 0,\n",
       " 10,\n",
       " 0,\n",
       " 0,\n",
       " 0,\n",
       " 3,\n",
       " 7,\n",
       " 2,\n",
       " 11,\n",
       " 0,\n",
       " 3,\n",
       " 3,\n",
       " 2,\n",
       " 3,\n",
       " 2]"
      ]
     },
     "execution_count": 77,
     "metadata": {},
     "output_type": "execute_result"
    }
   ],
   "source": [
    "def l_z(length, num):\n",
    "    num_str = str(num)\n",
    "    if len(num_str) < length:\n",
    "        return '0'*(length-len(num_str)) + num_str\n",
    "    return num_str\n",
    "\n",
    "def step_mul(length):\n",
    "    a = [random.randint(0,9) for i in range(length)]\n",
    "    b = [random.randint(0,9) for i in range(length)]\n",
    "\n",
    "    val_a = int(''.join(str(d) for d in a))\n",
    "    val_b = int(''.join(str(d) for d in b))\n",
    "    if val_a < val_b:\n",
    "        val_a, val_b = val_b, val_a\n",
    "        a, b = b, a\n",
    "    \n",
    "    steps = [f\"{l_z(length, val_b)}*{l_z(length, val_a)}=\"]\n",
    "    steps_eq = []\n",
    "    for i in range(length):\n",
    "        a_i = a[i] * 10**(length-i-1)\n",
    "        # a_i = str(a[i]) \n",
    "        steps.append(f\"{l_z(length, val_b)}*{l_z(length, a_i)}+\")\n",
    "        steps_eq.append(l_z(2*length, a_i*val_b)+\"+\")\n",
    "    \n",
    "    steps[-1] = steps[-1][:-1] + \"=\"\n",
    "    steps_eq[-1] = steps_eq[-1][:-1] + \"=\"\n",
    "\n",
    "    steps.extend(steps_eq)\n",
    "    steps.append(l_z(2*length, val_a*val_b))\n",
    "    out = ''.join(steps)\n",
    "    # out = list(out)\n",
    "    return out\n",
    "    # print(out)\n",
    "\n",
    "def tokenize_string(string):\n",
    "    out = []\n",
    "    for char in string:\n",
    "        if char == '+':\n",
    "            out.append(10)\n",
    "        elif char == '=':\n",
    "            out.append(11)\n",
    "        elif char == '*':\n",
    "            out.append(12)\n",
    "        else:\n",
    "            out.append(int(char))\n",
    "    return out\n",
    "\n",
    "\n",
    "eq = step_mul(3)\n",
    "print(eq)\n",
    "tokenize_string(eq)\n"
   ]
  },
  {
   "cell_type": "code",
   "execution_count": 124,
   "metadata": {},
   "outputs": [],
   "source": [
    "class MulDataset(Dataset):\n",
    "    \"\"\" \n",
    "    Dataset for the Add problem. E.g. for problem length 3:\n",
    "    12 + 333 = 345\n",
    "    Input: 0 1 2 3 3 3 -> Output: 0 3 4 5\n",
    "    Which will feed into the transformer concatenated as:\n",
    "    input:  0 1 2 3 3 3 0 3 4\n",
    "    output: I I I I I 0 3 4 5\n",
    "    where I is \"ignore\", as the transformer is reading the input sequence\n",
    "    \"\"\"\n",
    "\n",
    "    def __init__(self, split, length=3):\n",
    "        assert split in {'train', 'test'}\n",
    "        self.split = split\n",
    "        self.length = length\n",
    "    \n",
    "    def __len__(self):\n",
    "        return 1000 # ...\n",
    "    \n",
    "    def get_vocab_size(self):\n",
    "        return 13\n",
    "    \n",
    "    def get_block_size(self):\n",
    "        # the length of the sequence that will feed into transformer, \n",
    "        # containing concatenated input and the output, but -1 because\n",
    "        # the transformer starts making predictions at the last input element\n",
    "        return len(tokenize_string(step_mul(self.length))) - 1\n",
    "\n",
    "    def __getitem__(self, idx):\n",
    "        while True:\n",
    "            rai = tokenize_string(step_mul(self.length))\n",
    "            h = hash(str(rai[:1+2*self.length]))\n",
    "            \n",
    "            inp_split = 'test' if h % 4 == 0 else 'train' # designate 25% of examples as test\n",
    "            if inp_split == self.split:\n",
    "                break # ok\n",
    "        \n",
    "        x = torch.tensor(rai[:-1], dtype=torch.long)\n",
    "        y = torch.tensor(rai[1:], dtype=torch.long)\n",
    "        \n",
    "        # we only want to predict at output locations, mask out the loss at the input locations\n",
    "        y[:2*self.length] = -1\n",
    "        return x, y"
   ]
  },
  {
   "cell_type": "code",
   "execution_count": 125,
   "metadata": {},
   "outputs": [
    {
     "name": "stdout",
     "output_type": "stream",
     "text": [
      "tensor([ 2,  5,  1, 12,  8,  1,  2, 11,  2,  5,  1, 12,  8,  0,  0, 10,  2,  5,\n",
      "         1, 12,  0,  1,  0, 10,  2,  5,  1, 12,  0,  0,  2, 11,  2,  0,  0,  8,\n",
      "         0,  0, 10,  0,  0,  2,  5,  1,  0, 10,  0,  0,  0,  5,  0,  2, 11,  2,\n",
      "         0,  3,  8,  1])\n",
      "2 -1\n",
      "5 -1\n",
      "1 -1\n",
      "12 -1\n",
      "8 -1\n",
      "1 -1\n",
      "2 11\n",
      "11 2\n",
      "2 5\n",
      "5 1\n",
      "1 12\n",
      "12 8\n",
      "8 0\n",
      "0 0\n",
      "0 10\n",
      "10 2\n",
      "2 5\n",
      "5 1\n",
      "1 12\n",
      "12 0\n",
      "0 1\n",
      "1 0\n",
      "0 10\n",
      "10 2\n",
      "2 5\n",
      "5 1\n",
      "1 12\n",
      "12 0\n",
      "0 0\n",
      "0 2\n",
      "2 11\n",
      "11 2\n",
      "2 0\n",
      "0 0\n",
      "0 8\n",
      "8 0\n",
      "0 0\n",
      "0 10\n",
      "10 0\n",
      "0 0\n",
      "0 2\n",
      "2 5\n",
      "5 1\n",
      "1 0\n",
      "0 10\n",
      "10 0\n",
      "0 0\n",
      "0 0\n",
      "0 5\n",
      "5 0\n",
      "0 2\n",
      "2 11\n",
      "11 2\n",
      "2 0\n",
      "0 3\n",
      "3 8\n",
      "8 1\n",
      "1 2\n"
     ]
    }
   ],
   "source": [
    "# print an example instance of the dataset\n",
    "train_dataset = MulDataset('train')\n",
    "test_dataset = MulDataset('test')\n",
    "x, y = train_dataset[0]\n",
    "\n",
    "print (x)\n",
    "for a, b in zip(x,y):\n",
    "    print(int(a),int(b))"
   ]
  },
  {
   "cell_type": "markdown",
   "metadata": {},
   "source": [
    "## Model"
   ]
  },
  {
   "cell_type": "code",
   "execution_count": 91,
   "metadata": {},
   "outputs": [
    {
     "name": "stdout",
     "output_type": "stream",
     "text": [
      "number of parameters: 0.80M\n"
     ]
    }
   ],
   "source": [
    "from mingpt.model import GPT\n",
    "\n",
    "model_config = GPT.get_default_config()\n",
    "model_config.model_type = 'gpt-micro'\n",
    "# model_config.model_type = 'gpt-nano'\n",
    "\n",
    "model_config.vocab_size = train_dataset.get_vocab_size()\n",
    "model_config.block_size = train_dataset.get_block_size()\n",
    "model = GPT(model_config)"
   ]
  },
  {
   "cell_type": "code",
   "execution_count": null,
   "metadata": {},
   "outputs": [],
   "source": [
    "model.load_state_dict(torch.load('model_step_85.pth'))"
   ]
  },
  {
   "cell_type": "code",
   "execution_count": 92,
   "metadata": {},
   "outputs": [
    {
     "name": "stdout",
     "output_type": "stream",
     "text": [
      "4 4 128\n"
     ]
    }
   ],
   "source": [
    "print (model_config.n_head, model_config.n_layer, model_config.n_embd)"
   ]
  },
  {
   "cell_type": "code",
   "execution_count": 110,
   "metadata": {},
   "outputs": [
    {
     "name": "stdout",
     "output_type": "stream",
     "text": [
      "running on device cuda\n"
     ]
    }
   ],
   "source": [
    "# create a Trainer object\n",
    "from mingpt.trainer import Trainer\n",
    "\n",
    "train_config = Trainer.get_default_config()\n",
    "train_config.learning_rate = 1e-4 # the model we're using is so small that we can go a bit faster\n",
    "train_config.max_iters = 5000\n",
    "train_config.num_workers = 0\n",
    "# train_config.batch_size = 32\n",
    "trainer = Trainer(train_config, model, train_dataset)"
   ]
  },
  {
   "cell_type": "code",
   "execution_count": 112,
   "metadata": {},
   "outputs": [
    {
     "name": "stdout",
     "output_type": "stream",
     "text": [
      "iter_dt 46.56ms; iter 0: train loss 0.02889\n",
      "iter_dt 46.96ms; iter 100: train loss 0.02667\n",
      "iter_dt 45.86ms; iter 200: train loss 0.01901\n",
      "iter_dt 46.42ms; iter 300: train loss 0.01788\n",
      "iter_dt 47.72ms; iter 400: train loss 0.01980\n",
      "iter_dt 46.57ms; iter 500: train loss 0.01923\n",
      "iter_dt 45.33ms; iter 600: train loss 0.01809\n",
      "iter_dt 45.67ms; iter 700: train loss 0.01690\n",
      "iter_dt 45.45ms; iter 800: train loss 0.02092\n",
      "iter_dt 45.99ms; iter 900: train loss 0.01830\n"
     ]
    },
    {
     "ename": "KeyboardInterrupt",
     "evalue": "",
     "output_type": "error",
     "traceback": [
      "\u001b[0;31m---------------------------------------------------------------------------\u001b[0m",
      "\u001b[0;31mKeyboardInterrupt\u001b[0m                         Traceback (most recent call last)",
      "Cell \u001b[0;32mIn[112], line 6\u001b[0m\n\u001b[1;32m      3\u001b[0m         \u001b[38;5;28mprint\u001b[39m(\u001b[38;5;124mf\u001b[39m\u001b[38;5;124m\"\u001b[39m\u001b[38;5;124miter_dt \u001b[39m\u001b[38;5;132;01m{\u001b[39;00mtrainer\u001b[38;5;241m.\u001b[39miter_dt\u001b[38;5;250m \u001b[39m\u001b[38;5;241m*\u001b[39m\u001b[38;5;250m \u001b[39m\u001b[38;5;241m1000\u001b[39m\u001b[38;5;132;01m:\u001b[39;00m\u001b[38;5;124m.2f\u001b[39m\u001b[38;5;132;01m}\u001b[39;00m\u001b[38;5;124mms; iter \u001b[39m\u001b[38;5;132;01m{\u001b[39;00mtrainer\u001b[38;5;241m.\u001b[39miter_num\u001b[38;5;132;01m}\u001b[39;00m\u001b[38;5;124m: train loss \u001b[39m\u001b[38;5;132;01m{\u001b[39;00mtrainer\u001b[38;5;241m.\u001b[39mloss\u001b[38;5;241m.\u001b[39mitem()\u001b[38;5;132;01m:\u001b[39;00m\u001b[38;5;124m.5f\u001b[39m\u001b[38;5;132;01m}\u001b[39;00m\u001b[38;5;124m\"\u001b[39m)\n\u001b[1;32m      4\u001b[0m trainer\u001b[38;5;241m.\u001b[39mset_callback(\u001b[38;5;124m'\u001b[39m\u001b[38;5;124mon_batch_end\u001b[39m\u001b[38;5;124m'\u001b[39m, batch_end_callback)\n\u001b[0;32m----> 6\u001b[0m \u001b[43mtrainer\u001b[49m\u001b[38;5;241;43m.\u001b[39;49m\u001b[43mrun\u001b[49m\u001b[43m(\u001b[49m\u001b[43m)\u001b[49m\n",
      "File \u001b[0;32m~/minGPT/mingpt/trainer.py:89\u001b[0m, in \u001b[0;36mTrainer.run\u001b[0;34m(self)\u001b[0m\n\u001b[1;32m     87\u001b[0m     data_iter \u001b[38;5;241m=\u001b[39m \u001b[38;5;28miter\u001b[39m(train_loader)\n\u001b[1;32m     88\u001b[0m     batch \u001b[38;5;241m=\u001b[39m \u001b[38;5;28mnext\u001b[39m(data_iter)\n\u001b[0;32m---> 89\u001b[0m batch \u001b[38;5;241m=\u001b[39m [t\u001b[38;5;241m.\u001b[39mto(\u001b[38;5;28mself\u001b[39m\u001b[38;5;241m.\u001b[39mdevice) \u001b[38;5;28;01mfor\u001b[39;00m t \u001b[38;5;129;01min\u001b[39;00m batch]\n\u001b[1;32m     90\u001b[0m x, y \u001b[38;5;241m=\u001b[39m batch\n\u001b[1;32m     92\u001b[0m \u001b[38;5;66;03m# forward the model\u001b[39;00m\n",
      "File \u001b[0;32m~/minGPT/mingpt/trainer.py:89\u001b[0m, in \u001b[0;36m<listcomp>\u001b[0;34m(.0)\u001b[0m\n\u001b[1;32m     87\u001b[0m     data_iter \u001b[38;5;241m=\u001b[39m \u001b[38;5;28miter\u001b[39m(train_loader)\n\u001b[1;32m     88\u001b[0m     batch \u001b[38;5;241m=\u001b[39m \u001b[38;5;28mnext\u001b[39m(data_iter)\n\u001b[0;32m---> 89\u001b[0m batch \u001b[38;5;241m=\u001b[39m [\u001b[43mt\u001b[49m\u001b[38;5;241;43m.\u001b[39;49m\u001b[43mto\u001b[49m\u001b[43m(\u001b[49m\u001b[38;5;28;43mself\u001b[39;49m\u001b[38;5;241;43m.\u001b[39;49m\u001b[43mdevice\u001b[49m\u001b[43m)\u001b[49m \u001b[38;5;28;01mfor\u001b[39;00m t \u001b[38;5;129;01min\u001b[39;00m batch]\n\u001b[1;32m     90\u001b[0m x, y \u001b[38;5;241m=\u001b[39m batch\n\u001b[1;32m     92\u001b[0m \u001b[38;5;66;03m# forward the model\u001b[39;00m\n",
      "\u001b[0;31mKeyboardInterrupt\u001b[0m: "
     ]
    }
   ],
   "source": [
    "def batch_end_callback(trainer):\n",
    "    if trainer.iter_num % 100 == 0:\n",
    "        print(f\"iter_dt {trainer.iter_dt * 1000:.2f}ms; iter {trainer.iter_num}: train loss {trainer.loss.item():.5f}\")\n",
    "trainer.set_callback('on_batch_end', batch_end_callback)\n",
    "\n",
    "trainer.run()"
   ]
  },
  {
   "cell_type": "code",
   "execution_count": 113,
   "metadata": {},
   "outputs": [],
   "source": [
    "# now let's perform some evaluation\n",
    "model.eval()\n",
    "None"
   ]
  },
  {
   "cell_type": "code",
   "execution_count": null,
   "metadata": {},
   "outputs": [],
   "source": [
    "def eval_add_split(trainer, split, max_batches):\n",
    "    dataset = {'train':train_dataset, 'test':test_dataset}[split]\n",
    "    n = train_dataset.length # naugy direct access shrug\n",
    "    results = []\n",
    "    mistakes_printed_already = 0\n",
    "    loader = DataLoader(dataset, batch_size=50, num_workers=0, drop_last=False)\n",
    "    #loader = DataLoader(dataset, batch_size=1, num_workers=0, drop_last=False)\n",
    "    for b, (x, y) in enumerate(loader):\n",
    "        x = x.to(trainer.device)\n",
    "        y = y.to(trainer.device)\n",
    "\n",
    "        inp = x[:, :2*n+1]\n",
    "        sol = y[:, -2*n:]\n",
    "        \n",
    "        cat = model.generate(inp, 52, do_sample=False) # using greedy argmax, not sampling\n",
    "        sol_candidate = cat[:, -2*n:]      \n",
    "        # print(cat[0])\n",
    "        # print(inp[0])\n",
    "        # print(sol[0])   \n",
    "        # print(sol_candidate[0])\n",
    "        correct = (sol == sol_candidate).all(1).cpu() \n",
    "        for i in range(x.size(0)):\n",
    "            results.append(int(correct[i]))\n",
    "    \n",
    "    rt = torch.tensor(results, dtype=torch.float)\n",
    "    print(\"%s final score: %d/%d = %.2f%% correct\" % (split, rt.sum(), len(results), 100*rt.mean()))\n",
    "    return rt.sum()\n",
    "\n",
    "# run a lot of examples from both train and test through the model and verify the output correctness\n",
    "with torch.no_grad():\n",
    "    train_score = eval_add_split(trainer, 'train', max_batches=5)\n",
    "    test_score  = eval_add_split(trainer, 'test',  max_batches=5)"
   ]
  },
  {
   "cell_type": "code",
   "execution_count": 115,
   "metadata": {},
   "outputs": [],
   "source": [
    "torch.save(model.state_dict(), 'model_step_85.pth')"
   ]
  }
 ],
 "metadata": {
  "kernelspec": {
   "display_name": "Python 3",
   "language": "python",
   "name": "python3"
  },
  "language_info": {
   "codemirror_mode": {
    "name": "ipython",
    "version": 3
   },
   "file_extension": ".py",
   "mimetype": "text/x-python",
   "name": "python",
   "nbconvert_exporter": "python",
   "pygments_lexer": "ipython3",
   "version": "3.10.12"
  }
 },
 "nbformat": 4,
 "nbformat_minor": 2
}
