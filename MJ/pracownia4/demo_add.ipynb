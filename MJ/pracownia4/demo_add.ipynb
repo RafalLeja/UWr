{
 "cells": [
  {
   "cell_type": "markdown",
   "metadata": {},
   "source": [
    "A cute little demo showing the simplest usage of minGPT. Configured to run fine on Macbook Air in like a minute."
   ]
  },
  {
   "cell_type": "code",
   "execution_count": 1,
   "metadata": {},
   "outputs": [],
   "source": [
    "import torch\n",
    "from torch.utils.data import Dataset\n",
    "from torch.utils.data.dataloader import DataLoader\n",
    "from mingpt.utils import set_seed\n",
    "set_seed(3407)"
   ]
  },
  {
   "cell_type": "code",
   "execution_count": 2,
   "metadata": {},
   "outputs": [],
   "source": [
    "import pickle\n",
    "\n",
    "class SortDataset(Dataset):\n",
    "    \"\"\" \n",
    "    Dataset for the Sort problem. E.g. for problem length 6:\n",
    "    Input: 0 0 2 1 0 1 -> Output: 0 0 0 1 1 2\n",
    "    Which will feed into the transformer concatenated as:\n",
    "    input:  0 0 2 1 0 1 0 0 0 1 1\n",
    "    output: I I I I I 0 0 0 1 1 2\n",
    "    where I is \"ignore\", as the transformer is reading the input sequence\n",
    "    \"\"\"\n",
    "\n",
    "    def __init__(self, split, length=6, num_digits=3):\n",
    "        assert split in {'train', 'test'}\n",
    "        self.split = split\n",
    "        self.length = length\n",
    "        self.num_digits = num_digits\n",
    "    \n",
    "    def __len__(self):\n",
    "        return 10000 # ...\n",
    "    \n",
    "    def get_vocab_size(self):\n",
    "        return self.num_digits\n",
    "    \n",
    "    def get_block_size(self):\n",
    "        # the length of the sequence that will feed into transformer, \n",
    "        # containing concatenated input and the output, but -1 because\n",
    "        # the transformer starts making predictions at the last input element\n",
    "        return self.length * 2 - 1\n",
    "\n",
    "    def __getitem__(self, idx):\n",
    "        \n",
    "        # use rejection sampling to generate an input example from the desired split\n",
    "        while True:\n",
    "            # generate some random integers\n",
    "            inp = torch.randint(self.num_digits, size=(self.length,), dtype=torch.long)\n",
    "            # half of the time let's try to boost the number of examples that \n",
    "            # have a large number of repeats, as this is what the model seems to struggle\n",
    "            # with later in training, and they are kind of rate\n",
    "            if torch.rand(1).item() < 0.5:\n",
    "                if inp.unique().nelement() > self.length // 2:\n",
    "                    # too many unqiue digits, re-sample\n",
    "                    continue\n",
    "            # figure out if this generated example is train or test based on its hash\n",
    "            h = hash(pickle.dumps(inp.tolist()))\n",
    "            inp_split = 'test' if h % 4 == 0 else 'train' # designate 25% of examples as test\n",
    "            if inp_split == self.split:\n",
    "                break # ok\n",
    "        \n",
    "        # solve the task: i.e. sort\n",
    "        sol = torch.sort(inp)[0]\n",
    "\n",
    "        # concatenate the problem specification and the solution\n",
    "        cat = torch.cat((inp, sol), dim=0)\n",
    "\n",
    "        # the inputs to the transformer will be the offset sequence\n",
    "        x = cat[:-1].clone()\n",
    "        y = cat[1:].clone()\n",
    "        # we only want to predict at output locations, mask out the loss at the input locations\n",
    "        y[:self.length-1] = -1\n",
    "        return x, y\n"
   ]
  },
  {
   "cell_type": "code",
   "execution_count": null,
   "metadata": {},
   "outputs": [],
   "source": []
  },
  {
   "cell_type": "markdown",
   "metadata": {},
   "source": [
    "## Add"
   ]
  },
  {
   "cell_type": "code",
   "execution_count": 3,
   "metadata": {},
   "outputs": [
    {
     "name": "stdout",
     "output_type": "stream",
     "text": [
      "[0, 6, 2, 5, 3, 6, 0, 5, 9, 8]\n",
      "[4, 9, 5, 3, 7, 8, 0, 8, 7, 3]\n",
      "[6, 4, 4, 3, 1, 4, 0, 9, 5, 8]\n",
      "[3, 5, 9, 1, 1, 9, 0, 4, 7, 8]\n",
      "[3, 5, 0, 1, 4, 8, 0, 4, 9, 8]\n",
      "[0, 0, 2, 9, 3, 7, 0, 9, 3, 9]\n",
      "[8, 4, 8, 2, 3, 7, 1, 0, 8, 5]\n",
      "[9, 9, 9, 7, 0, 6, 1, 7, 0, 5]\n",
      "[7, 4, 5, 1, 3, 6, 0, 8, 8, 1]\n",
      "[1, 0, 1, 0, 4, 2, 0, 1, 4, 3]\n"
     ]
    }
   ],
   "source": [
    "import random\n",
    "\n",
    "def random_add_instance(length):\n",
    "    a = [random.randint(0,9) for i in range(length)]\n",
    "    b = [random.randint(0,9) for i in range(length)]\n",
    "    val_a = int(''.join(str(d) for d in a))\n",
    "    val_b = int(''.join(str(d) for d in b))\n",
    "    val_c = val_a + val_b\n",
    "    str_c = str(val_c)\n",
    "    str_c = (length + 1 - len(str_c)) * '0' + str_c\n",
    "    return a + b + [int(d) for d in str_c]\n",
    "\n",
    "for i in range(10):\n",
    "    print (random_add_instance(3))\n",
    "\n"
   ]
  },
  {
   "cell_type": "code",
   "execution_count": 3,
   "metadata": {},
   "outputs": [],
   "source": [
    "class AddDataset(Dataset):\n",
    "    \"\"\" \n",
    "    Dataset for the Add problem. E.g. for problem length 3:\n",
    "    12 + 333 = 345\n",
    "    Input: 0 1 2 3 3 3 -> Output: 0 3 4 5\n",
    "    Which will feed into the transformer concatenated as:\n",
    "    input:  0 1 2 3 3 3 0 3 4\n",
    "    output: I I I I I 0 3 4 5\n",
    "    where I is \"ignore\", as the transformer is reading the input sequence\n",
    "    \"\"\"\n",
    "\n",
    "    def __init__(self, split, length=3):\n",
    "        assert split in {'train', 'test'}\n",
    "        self.split = split\n",
    "        self.length = length\n",
    "    \n",
    "    def __len__(self):\n",
    "        return 10000 # ...\n",
    "    \n",
    "    def get_vocab_size(self):\n",
    "        return 10\n",
    "    \n",
    "    def get_block_size(self):\n",
    "        # the length of the sequence that will feed into transformer, \n",
    "        # containing concatenated input and the output, but -1 because\n",
    "        # the transformer starts making predictions at the last input element\n",
    "        return 3 * self.length + 1 - 1\n",
    "\n",
    "    def __getitem__(self, idx):\n",
    "        while True:\n",
    "            rai = random_add_instance(self.length)\n",
    "            h = hash(str(rai[:2*self.length]))\n",
    "            \n",
    "            inp_split = 'test' if h % 4 == 0 else 'train' # designate 25% of examples as test\n",
    "            if inp_split == self.split:\n",
    "                break # ok\n",
    "        \n",
    "        x = torch.tensor(rai[:-1], dtype=torch.long)\n",
    "        y = torch.tensor(rai[1:], dtype=torch.long)\n",
    "        \n",
    "        # we only want to predict at output locations, mask out the loss at the input locations\n",
    "        y[:2*self.length-1] = -1\n",
    "        return x, y"
   ]
  },
  {
   "cell_type": "code",
   "execution_count": 4,
   "metadata": {},
   "outputs": [
    {
     "name": "stdout",
     "output_type": "stream",
     "text": [
      "tensor([2, 9, 3, 4, 8, 0, 0, 7, 7])\n",
      "2 -1\n",
      "9 -1\n",
      "3 -1\n",
      "4 -1\n",
      "8 -1\n",
      "0 0\n",
      "0 7\n",
      "7 7\n",
      "7 3\n"
     ]
    }
   ],
   "source": [
    "# print an example instance of the dataset\n",
    "train_dataset = AddDataset('train')\n",
    "test_dataset = AddDataset('test')\n",
    "x, y = train_dataset[0]\n",
    "\n",
    "print (x)\n",
    "for a, b in zip(x,y):\n",
    "    print(int(a),int(b))"
   ]
  },
  {
   "cell_type": "code",
   "execution_count": null,
   "metadata": {},
   "outputs": [],
   "source": []
  },
  {
   "cell_type": "code",
   "execution_count": 6,
   "metadata": {},
   "outputs": [
    {
     "name": "stdout",
     "output_type": "stream",
     "text": [
      "number of parameters: 0.09M\n"
     ]
    }
   ],
   "source": [
    "# create a GPT instance\n",
    "from mingpt.model import GPT\n",
    "\n",
    "model_config = GPT.get_default_config()\n",
    "model_config.model_type = 'gpt-micro'\n",
    "model_config.model_type = 'gpt-nano'\n",
    "\n",
    "model_config.vocab_size = train_dataset.get_vocab_size()\n",
    "model_config.block_size = train_dataset.get_block_size()\n",
    "model = GPT(model_config)"
   ]
  },
  {
   "cell_type": "code",
   "execution_count": 7,
   "metadata": {},
   "outputs": [
    {
     "name": "stdout",
     "output_type": "stream",
     "text": [
      "3 3 48\n"
     ]
    }
   ],
   "source": [
    "print (model_config.n_head, model_config.n_layer, model_config.n_embd)"
   ]
  },
  {
   "cell_type": "code",
   "execution_count": 12,
   "metadata": {},
   "outputs": [
    {
     "name": "stdout",
     "output_type": "stream",
     "text": [
      "running on device cuda\n"
     ]
    }
   ],
   "source": [
    "# create a Trainer object\n",
    "from mingpt.trainer import Trainer\n",
    "\n",
    "train_config = Trainer.get_default_config()\n",
    "train_config.learning_rate = 5e-4 # the model we're using is so small that we can go a bit faster\n",
    "train_config.max_iters = 5000\n",
    "train_config.num_workers = 0\n",
    "trainer = Trainer(train_config, model, train_dataset)"
   ]
  },
  {
   "cell_type": "code",
   "execution_count": 13,
   "metadata": {},
   "outputs": [
    {
     "name": "stdout",
     "output_type": "stream",
     "text": [
      "iter_dt 0.00ms; iter 0: train loss 1.32937\n",
      "iter_dt 15.88ms; iter 100: train loss 1.29775\n",
      "iter_dt 16.49ms; iter 200: train loss 1.28916\n",
      "iter_dt 16.57ms; iter 300: train loss 1.31216\n",
      "iter_dt 16.32ms; iter 400: train loss 1.30274\n",
      "iter_dt 16.49ms; iter 500: train loss 1.29706\n",
      "iter_dt 16.15ms; iter 600: train loss 1.25459\n",
      "iter_dt 16.70ms; iter 700: train loss 1.26540\n",
      "iter_dt 15.13ms; iter 800: train loss 1.28608\n",
      "iter_dt 13.34ms; iter 900: train loss 1.31439\n",
      "iter_dt 13.39ms; iter 1000: train loss 1.29671\n",
      "iter_dt 14.00ms; iter 1100: train loss 1.25890\n",
      "iter_dt 13.92ms; iter 1200: train loss 1.24503\n",
      "iter_dt 14.11ms; iter 1300: train loss 1.28746\n",
      "iter_dt 10.05ms; iter 1400: train loss 1.23210\n",
      "iter_dt 13.81ms; iter 1500: train loss 1.21414\n",
      "iter_dt 10.42ms; iter 1600: train loss 1.24760\n",
      "iter_dt 11.70ms; iter 1700: train loss 1.18891\n",
      "iter_dt 11.09ms; iter 1800: train loss 1.15542\n",
      "iter_dt 12.20ms; iter 1900: train loss 1.14518\n",
      "iter_dt 12.98ms; iter 2000: train loss 1.02021\n",
      "iter_dt 15.06ms; iter 2100: train loss 1.00298\n",
      "iter_dt 13.64ms; iter 2200: train loss 0.93225\n",
      "iter_dt 13.37ms; iter 2300: train loss 0.97834\n",
      "iter_dt 12.05ms; iter 2400: train loss 0.96431\n",
      "iter_dt 11.04ms; iter 2500: train loss 0.97319\n",
      "iter_dt 10.63ms; iter 2600: train loss 0.94369\n",
      "iter_dt 13.39ms; iter 2700: train loss 0.96078\n",
      "iter_dt 13.80ms; iter 2800: train loss 0.92040\n",
      "iter_dt 13.36ms; iter 2900: train loss 0.89122\n",
      "iter_dt 13.83ms; iter 3000: train loss 0.86968\n",
      "iter_dt 14.36ms; iter 3100: train loss 0.82133\n",
      "iter_dt 13.74ms; iter 3200: train loss 0.78703\n",
      "iter_dt 13.76ms; iter 3300: train loss 0.63302\n",
      "iter_dt 13.39ms; iter 3400: train loss 0.49698\n",
      "iter_dt 13.79ms; iter 3500: train loss 0.45921\n",
      "iter_dt 13.94ms; iter 3600: train loss 0.43019\n",
      "iter_dt 13.91ms; iter 3700: train loss 0.39232\n",
      "iter_dt 13.32ms; iter 3800: train loss 0.36208\n",
      "iter_dt 14.17ms; iter 3900: train loss 0.26873\n",
      "iter_dt 9.47ms; iter 4000: train loss 0.32351\n",
      "iter_dt 10.96ms; iter 4100: train loss 0.36134\n",
      "iter_dt 11.68ms; iter 4200: train loss 0.30455\n",
      "iter_dt 11.21ms; iter 4300: train loss 0.20281\n",
      "iter_dt 12.06ms; iter 4400: train loss 0.28140\n",
      "iter_dt 15.00ms; iter 4500: train loss 0.22843\n",
      "iter_dt 15.43ms; iter 4600: train loss 0.18106\n",
      "iter_dt 16.79ms; iter 4700: train loss 0.19319\n",
      "iter_dt 17.37ms; iter 4800: train loss 0.18622\n",
      "iter_dt 16.36ms; iter 4900: train loss 0.20206\n"
     ]
    }
   ],
   "source": [
    "def batch_end_callback(trainer):\n",
    "    if trainer.iter_num % 100 == 0:\n",
    "        print(f\"iter_dt {trainer.iter_dt * 1000:.2f}ms; iter {trainer.iter_num}: train loss {trainer.loss.item():.5f}\")\n",
    "trainer.set_callback('on_batch_end', batch_end_callback)\n",
    "\n",
    "trainer.run()"
   ]
  },
  {
   "cell_type": "code",
   "execution_count": 14,
   "metadata": {},
   "outputs": [],
   "source": [
    "# now let's perform some evaluation\n",
    "model.eval()\n",
    "None"
   ]
  },
  {
   "cell_type": "code",
   "execution_count": 15,
   "metadata": {},
   "outputs": [
    {
     "name": "stdout",
     "output_type": "stream",
     "text": [
      "train final score: 9508/10000 = 95.08% correct\n",
      "test final score: 9512/10000 = 95.12% correct\n"
     ]
    }
   ],
   "source": [
    "def eval_add_split(trainer, split, max_batches):\n",
    "    dataset = {'train':train_dataset, 'test':test_dataset}[split]\n",
    "    n = train_dataset.length # naugy direct access shrug\n",
    "    results = []\n",
    "    mistakes_printed_already = 0\n",
    "    loader = DataLoader(dataset, batch_size=100, num_workers=0, drop_last=False)\n",
    "    #loader = DataLoader(dataset, batch_size=1, num_workers=0, drop_last=False)\n",
    "    for b, (x, y) in enumerate(loader):\n",
    "        x = x.to(trainer.device)\n",
    "        y = y.to(trainer.device)\n",
    "\n",
    "        inp = x[:, :2*n]\n",
    "        sol = y[:, -n-1:]\n",
    "        \n",
    "        cat = model.generate(inp, n+1, do_sample=False) # using greedy argmax, not sampling\n",
    "        sol_candidate = cat[:, -n-1:]         \n",
    "        correct = (sol == sol_candidate).all(1).cpu() \n",
    "        for i in range(x.size(0)):\n",
    "            results.append(int(correct[i]))\n",
    "    \n",
    "    rt = torch.tensor(results, dtype=torch.float)\n",
    "    print(\"%s final score: %d/%d = %.2f%% correct\" % (split, rt.sum(), len(results), 100*rt.mean()))\n",
    "    return rt.sum()\n",
    "\n",
    "# run a lot of examples from both train and test through the model and verify the output correctness\n",
    "with torch.no_grad():\n",
    "    train_score = eval_add_split(trainer, 'train', max_batches=50)\n",
    "    test_score  = eval_add_split(trainer, 'test',  max_batches=50)"
   ]
  },
  {
   "cell_type": "markdown",
   "metadata": {},
   "source": [
    "## Multiply"
   ]
  },
  {
   "cell_type": "code",
   "execution_count": 4,
   "metadata": {},
   "outputs": [
    {
     "name": "stdout",
     "output_type": "stream",
     "text": [
      "[2, 9, 3, 4, 8, 0, 1, 4, 0, 6, 4, 0]\n",
      "[1, 9, 0, 0, 1, 7, 0, 0, 3, 2, 3, 0]\n",
      "[2, 3, 5, 6, 2, 9, 1, 4, 7, 8, 1, 5]\n",
      "[9, 2, 5, 1, 1, 1, 1, 0, 2, 6, 7, 5]\n",
      "[6, 7, 1, 0, 1, 6, 0, 1, 0, 7, 3, 6]\n",
      "[7, 3, 1, 4, 3, 7, 3, 1, 9, 4, 4, 7]\n",
      "[6, 3, 5, 1, 7, 2, 1, 0, 9, 2, 2, 0]\n",
      "[0, 8, 6, 5, 3, 5, 0, 4, 6, 0, 1, 0]\n",
      "[3, 7, 1, 7, 6, 6, 2, 8, 4, 1, 8, 6]\n",
      "[8, 0, 4, 0, 3, 4, 0, 2, 7, 3, 3, 6]\n"
     ]
    }
   ],
   "source": [
    "import random\n",
    "\n",
    "def random_mul_instance(length):\n",
    "    a = [random.randint(0,9) for i in range(length)]\n",
    "    b = [random.randint(0,9) for i in range(length)]\n",
    "    val_a = int(''.join(str(d) for d in a))\n",
    "    val_b = int(''.join(str(d) for d in b))\n",
    "    val_c = val_a * val_b\n",
    "    str_c = str(val_c)\n",
    "    str_c = (2*length - len(str_c)) * '0' + str_c\n",
    "    return a + b + [int(d) for d in str_c]\n",
    "\n",
    "for i in range(10):\n",
    "    print (random_mul_instance(3))"
   ]
  },
  {
   "cell_type": "code",
   "execution_count": 7,
   "metadata": {},
   "outputs": [],
   "source": [
    "class MulDataset(Dataset):\n",
    "    \"\"\" \n",
    "    Dataset for the Add problem. E.g. for problem length 3:\n",
    "    12 + 333 = 345\n",
    "    Input: 0 1 2 3 3 3 -> Output: 0 3 4 5\n",
    "    Which will feed into the transformer concatenated as:\n",
    "    input:  0 1 2 3 3 3 0 3 4\n",
    "    output: I I I I I 0 3 4 5\n",
    "    where I is \"ignore\", as the transformer is reading the input sequence\n",
    "    \"\"\"\n",
    "\n",
    "    def __init__(self, split, length=3):\n",
    "        assert split in {'train', 'test'}\n",
    "        self.split = split\n",
    "        self.length = length\n",
    "    \n",
    "    def __len__(self):\n",
    "        return 10000 # ...\n",
    "    \n",
    "    def get_vocab_size(self):\n",
    "        return 10\n",
    "    \n",
    "    def get_block_size(self):\n",
    "        # the length of the sequence that will feed into transformer, \n",
    "        # containing concatenated input and the output, but -1 because\n",
    "        # the transformer starts making predictions at the last input element\n",
    "        return 4 * self.length - 1\n",
    "\n",
    "    def __getitem__(self, idx):\n",
    "        while True:\n",
    "            rai = random_mul_instance(self.length)\n",
    "            h = hash(str(rai[:2*self.length]))\n",
    "            \n",
    "            inp_split = 'test' if h % 4 == 0 else 'train' # designate 25% of examples as test\n",
    "            if inp_split == self.split:\n",
    "                break # ok\n",
    "        \n",
    "        x = torch.tensor(rai[:-1], dtype=torch.long)\n",
    "        y = torch.tensor(rai[1:], dtype=torch.long)\n",
    "        \n",
    "        # we only want to predict at output locations, mask out the loss at the input locations\n",
    "        y[:2*self.length-1] = -1\n",
    "        return x, y"
   ]
  },
  {
   "cell_type": "code",
   "execution_count": 8,
   "metadata": {},
   "outputs": [
    {
     "name": "stdout",
     "output_type": "stream",
     "text": [
      "tensor([7, 7, 9, 8, 8, 7, 6, 9, 0, 9, 7])\n",
      "7 -1\n",
      "7 -1\n",
      "9 -1\n",
      "8 -1\n",
      "8 -1\n",
      "7 6\n",
      "6 9\n",
      "9 0\n",
      "0 9\n",
      "9 7\n",
      "7 3\n"
     ]
    }
   ],
   "source": [
    "# print an example instance of the dataset\n",
    "train_dataset = MulDataset('train')\n",
    "test_dataset = MulDataset('test')\n",
    "x, y = train_dataset[0]\n",
    "\n",
    "print (x)\n",
    "for a, b in zip(x,y):\n",
    "    print(int(a),int(b))"
   ]
  },
  {
   "cell_type": "code",
   "execution_count": 116,
   "metadata": {},
   "outputs": [
    {
     "name": "stdout",
     "output_type": "stream",
     "text": [
      "number of parameters: 0.80M\n"
     ]
    }
   ],
   "source": [
    "# create a GPT instance\n",
    "from mingpt.model import GPT\n",
    "\n",
    "model_config = GPT.get_default_config()\n",
    "model_config.model_type = 'gpt-micro'\n",
    "# model_config.model_type = 'gpt-nano'\n",
    "\n",
    "model_config.vocab_size = train_dataset.get_vocab_size()\n",
    "model_config.block_size = train_dataset.get_block_size()\n",
    "model = GPT(model_config)"
   ]
  },
  {
   "cell_type": "code",
   "execution_count": 117,
   "metadata": {},
   "outputs": [
    {
     "name": "stderr",
     "output_type": "stream",
     "text": [
      "/tmp/ipykernel_3347/1627080307.py:1: FutureWarning: You are using `torch.load` with `weights_only=False` (the current default value), which uses the default pickle module implicitly. It is possible to construct malicious pickle data which will execute arbitrary code during unpickling (See https://github.com/pytorch/pytorch/blob/main/SECURITY.md#untrusted-models for more details). In a future release, the default value for `weights_only` will be flipped to `True`. This limits the functions that could be executed during unpickling. Arbitrary objects will no longer be allowed to be loaded via this mode unless they are explicitly allowlisted by the user via `torch.serialization.add_safe_globals`. We recommend you start setting `weights_only=True` for any use case where you don't have full control of the loaded file. Please open an issue on GitHub for any issues related to this experimental feature.\n",
      "  model.load_state_dict(torch.load('model_4_42.pth'))\n"
     ]
    },
    {
     "data": {
      "text/plain": [
       "<All keys matched successfully>"
      ]
     },
     "execution_count": 117,
     "metadata": {},
     "output_type": "execute_result"
    }
   ],
   "source": [
    "model.load_state_dict(torch.load('model_4_42.pth'))"
   ]
  },
  {
   "cell_type": "code",
   "execution_count": 118,
   "metadata": {},
   "outputs": [
    {
     "name": "stdout",
     "output_type": "stream",
     "text": [
      "4 4 128\n"
     ]
    }
   ],
   "source": [
    "print (model_config.n_head, model_config.n_layer, model_config.n_embd)"
   ]
  },
  {
   "cell_type": "code",
   "execution_count": 119,
   "metadata": {},
   "outputs": [
    {
     "name": "stdout",
     "output_type": "stream",
     "text": [
      "running on device cuda\n"
     ]
    }
   ],
   "source": [
    "# create a Trainer object\n",
    "from mingpt.trainer import Trainer\n",
    "\n",
    "train_config = Trainer.get_default_config()\n",
    "train_config.learning_rate = 1e-5 # the model we're using is so small that we can go a bit faster\n",
    "train_config.max_iters = 5000\n",
    "train_config.num_workers = 0\n",
    "# train_config.batch_size = 32\n",
    "trainer = Trainer(train_config, model, train_dataset)"
   ]
  },
  {
   "cell_type": "code",
   "execution_count": 112,
   "metadata": {},
   "outputs": [
    {
     "name": "stdout",
     "output_type": "stream",
     "text": [
      "iter_dt 10.84ms; iter 0: train loss 1.22539\n",
      "iter_dt 9.98ms; iter 100: train loss 1.11402\n",
      "iter_dt 9.67ms; iter 200: train loss 1.16709\n",
      "iter_dt 9.61ms; iter 300: train loss 1.19265\n",
      "iter_dt 9.40ms; iter 400: train loss 1.19877\n",
      "iter_dt 11.89ms; iter 500: train loss 1.15569\n",
      "iter_dt 9.68ms; iter 600: train loss 1.20752\n",
      "iter_dt 10.51ms; iter 700: train loss 1.16064\n",
      "iter_dt 9.62ms; iter 800: train loss 1.17483\n",
      "iter_dt 9.44ms; iter 900: train loss 1.20891\n",
      "iter_dt 9.38ms; iter 1000: train loss 1.22215\n",
      "iter_dt 9.55ms; iter 1100: train loss 1.18267\n",
      "iter_dt 9.30ms; iter 1200: train loss 1.18497\n",
      "iter_dt 9.43ms; iter 1300: train loss 1.11436\n",
      "iter_dt 10.27ms; iter 1400: train loss 1.15285\n",
      "iter_dt 9.54ms; iter 1500: train loss 1.24032\n",
      "iter_dt 9.78ms; iter 1600: train loss 1.19886\n",
      "iter_dt 9.27ms; iter 1700: train loss 1.13442\n",
      "iter_dt 10.34ms; iter 1800: train loss 1.07039\n",
      "iter_dt 10.23ms; iter 1900: train loss 1.16761\n",
      "iter_dt 9.93ms; iter 2000: train loss 1.17524\n",
      "iter_dt 9.61ms; iter 2100: train loss 1.22760\n",
      "iter_dt 9.81ms; iter 2200: train loss 1.18194\n",
      "iter_dt 9.41ms; iter 2300: train loss 1.15208\n",
      "iter_dt 9.98ms; iter 2400: train loss 1.15203\n",
      "iter_dt 9.51ms; iter 2500: train loss 1.16878\n",
      "iter_dt 9.22ms; iter 2600: train loss 1.17322\n",
      "iter_dt 9.41ms; iter 2700: train loss 1.25569\n",
      "iter_dt 12.35ms; iter 2800: train loss 1.19567\n",
      "iter_dt 9.20ms; iter 2900: train loss 1.19176\n",
      "iter_dt 9.64ms; iter 3000: train loss 1.14245\n",
      "iter_dt 10.18ms; iter 3100: train loss 1.22975\n",
      "iter_dt 9.50ms; iter 3200: train loss 1.12709\n",
      "iter_dt 9.30ms; iter 3300: train loss 1.21618\n",
      "iter_dt 9.24ms; iter 3400: train loss 1.13760\n",
      "iter_dt 9.11ms; iter 3500: train loss 1.11777\n",
      "iter_dt 9.67ms; iter 3600: train loss 1.14676\n",
      "iter_dt 9.57ms; iter 3700: train loss 1.22621\n",
      "iter_dt 10.66ms; iter 3800: train loss 1.12982\n",
      "iter_dt 10.58ms; iter 3900: train loss 1.18039\n",
      "iter_dt 9.61ms; iter 4000: train loss 1.14669\n",
      "iter_dt 11.23ms; iter 4100: train loss 1.18369\n",
      "iter_dt 9.40ms; iter 4200: train loss 1.19927\n",
      "iter_dt 9.88ms; iter 4300: train loss 1.08992\n",
      "iter_dt 9.37ms; iter 4400: train loss 1.11121\n",
      "iter_dt 9.40ms; iter 4500: train loss 1.15561\n",
      "iter_dt 9.65ms; iter 4600: train loss 1.25867\n",
      "iter_dt 9.90ms; iter 4700: train loss 1.09449\n",
      "iter_dt 10.25ms; iter 4800: train loss 1.24111\n",
      "iter_dt 9.81ms; iter 4900: train loss 1.20061\n"
     ]
    }
   ],
   "source": [
    "def batch_end_callback(trainer):\n",
    "    if trainer.iter_num % 100 == 0:\n",
    "        print(f\"iter_dt {trainer.iter_dt * 1000:.2f}ms; iter {trainer.iter_num}: train loss {trainer.loss.item():.5f}\")\n",
    "trainer.set_callback('on_batch_end', batch_end_callback)\n",
    "\n",
    "trainer.run()"
   ]
  },
  {
   "cell_type": "code",
   "execution_count": 120,
   "metadata": {},
   "outputs": [],
   "source": [
    "# now let's perform some evaluation\n",
    "model.eval()\n",
    "None"
   ]
  },
  {
   "cell_type": "code",
   "execution_count": 121,
   "metadata": {},
   "outputs": [
    {
     "name": "stdout",
     "output_type": "stream",
     "text": [
      "train final score: 434/10000 = 4.34% correct\n",
      "test final score: 423/10000 = 4.23% correct\n"
     ]
    }
   ],
   "source": [
    "def eval_add_split(trainer, split, max_batches):\n",
    "    dataset = {'train':train_dataset, 'test':test_dataset}[split]\n",
    "    n = train_dataset.length # naugy direct access shrug\n",
    "    results = []\n",
    "    mistakes_printed_already = 0\n",
    "    loader = DataLoader(dataset, batch_size=100, num_workers=0, drop_last=False)\n",
    "    #loader = DataLoader(dataset, batch_size=1, num_workers=0, drop_last=False)\n",
    "    for b, (x, y) in enumerate(loader):\n",
    "        x = x.to(trainer.device)\n",
    "        y = y.to(trainer.device)\n",
    "\n",
    "        inp = x[:, :2*n]\n",
    "        sol = y[:, -2*n:]\n",
    "        \n",
    "        cat = model.generate(inp, 2*n, do_sample=False) # using greedy argmax, not sampling\n",
    "        sol_candidate = cat[:, -2*n:]      \n",
    "        # print(cat)\n",
    "        # print(n)\n",
    "        # print(sol)   \n",
    "        # print(sol_candidate)\n",
    "        correct = (sol == sol_candidate).all(1).cpu() \n",
    "        for i in range(x.size(0)):\n",
    "            results.append(int(correct[i]))\n",
    "    \n",
    "    rt = torch.tensor(results, dtype=torch.float)\n",
    "    print(\"%s final score: %d/%d = %.2f%% correct\" % (split, rt.sum(), len(results), 100*rt.mean()))\n",
    "    return rt.sum()\n",
    "\n",
    "# run a lot of examples from both train and test through the model and verify the output correctness\n",
    "with torch.no_grad():\n",
    "    train_score = eval_add_split(trainer, 'train', max_batches=50)\n",
    "    test_score  = eval_add_split(trainer, 'test',  max_batches=50)"
   ]
  },
  {
   "cell_type": "code",
   "execution_count": 92,
   "metadata": {},
   "outputs": [],
   "source": [
    "torch.save(model.state_dict(), 'model_weights.pth')"
   ]
  }
 ],
 "metadata": {
  "kernelspec": {
   "display_name": "Python 3",
   "language": "python",
   "name": "python3"
  },
  "language_info": {
   "codemirror_mode": {
    "name": "ipython",
    "version": 3
   },
   "file_extension": ".py",
   "mimetype": "text/x-python",
   "name": "python",
   "nbconvert_exporter": "python",
   "pygments_lexer": "ipython3",
   "version": "3.10.12"
  }
 },
 "nbformat": 4,
 "nbformat_minor": 2
}
