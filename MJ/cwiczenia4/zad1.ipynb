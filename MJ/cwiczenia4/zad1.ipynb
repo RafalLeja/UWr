{
 "cells": [
  {
   "cell_type": "markdown",
   "metadata": {},
   "source": [
    "Słownik:\n",
    "ń - ń\n",
    "ś - ś\n",
    "¦ - ę\n",
    "¡ - ą\n",
    "ª - ł\n",
    "» - ż\n",
    "\\u001C\n",
    "\u001c"
   ]
  },
  {
   "cell_type": "markdown",
   "metadata": {},
   "source": [
    "## Zadanie 1:\n",
    "Jeżeli wykonamy zanurzenia dla korpusów w dwóch różnych językach, to wektory dla women oraz kobieta nie będą miały ze sobą związku. Zaproponuj jakiś sposób liczenia zanurzeń, w których słowa będące swoimi tłumaczeniami będą otrzymywa¢ podobne wektory."
   ]
  },
  {
   "cell_type": "markdown",
   "metadata": {},
   "source": [
    "## Zadanie 2:\n",
    "Zaproponuj jakiś sposób do generowania tekstu (ogólnie sekwencji/macierzy tokenów\n",
    "o ustalonym rozmiarze) za pomocą sieci typu BERT. Mo»esz wymyśli¢ procedurę samemu, lub\n",
    "odnale¹¢ jakąś publikację, która takie metody opisuje."
   ]
  },
  {
   "cell_type": "markdown",
   "metadata": {},
   "source": [
    "## Zadanie 3:\n",
    "Załó»my, »e dysponujemy du»ym, n-gramowym modelem Mng działającym na tokenach. Zaproponuj dwa scenariusze treningu modelu typu GPT, który wykorzystuje Mng (model\n",
    "Mng mo»e by¢ równie» pó¹niej wykorzystywany w inferencji, czyli w generowaniu tekstu)\n"
   ]
  },
  {
   "cell_type": "markdown",
   "metadata": {},
   "source": [
    "## Zadanie 4:\n",
    "Wracamy do zadania o Niefrasobliwym Programiście (co trenuje nie ten model, co\n",
    "trzeba). Tym razem NP trenował model typu BERT (du»y i kosztowny), ale zapomniał o uwzględnieniu osadzeń pozycyjnych. Czy taki model mógłby by¢ do czegoś u»yteczny? (oczyiście od odpowiedzi zale»y dalszy los NP w \u001crmie). Czy fakt, »e u»yty tu słownik ma bardzo du»o tokenów jest\n",
    "okolicznością sprzyjającą, czy obcią»ającą?"
   ]
  },
  {
   "cell_type": "markdown",
   "metadata": {},
   "source": [
    "## Zadanie 5:\n",
    "Przyjmijmy, »e udało się pozytywnie odpwiedzie¢ na pytanie w poprzednim zadaniu i\n",
    "Kierownictwo chce (dla innego języka) wytrenowa¢ inną instancję \u0012bezpozycyjnego BERT-a\u0011. Standardowy trening Maskowanego Modelu Językowego ma pewną właściwoś¢, która jest szczególnie\n",
    "kłopotliwa, gdy nie ma osadzeń pozycyjnych. Jaka to właściwoś¢? Wskazówka, z której lepiej nie\n",
    "korzysta¢ (rot13.com): Cbzlśy b yvpmovr gbxraój ZNFX\n"
   ]
  },
  {
   "cell_type": "markdown",
   "metadata": {},
   "source": [
    "## Zadanie 6 (*):\n",
    "W klasy\u001ckacji tekstu u»ywany jest często naiwny klasy\u001ckator bayesowski (NBC).\n",
    "Opowiedz krótko jak działa NBC, a następnie podaj co najmnie dwa powody, dlaczego dostrajanie\n",
    "BERT-a ma szansę dawa¢ istotnie lepsze wyniki w zadaniu klasy\u001ckacji tekstu.\n"
   ]
  },
  {
   "cell_type": "markdown",
   "metadata": {},
   "source": [
    "## Zadanie 7:\n",
    "Zaprojektuj eksperyment, który odpowie na pytanie: \u0012czy transformery potra\u001cą sortowa¢ ciąg liczb naturalnych\u0011. Jaka jest Twoja intuicja dotycząca wyniku tego eksperymentu?\n"
   ]
  },
  {
   "cell_type": "markdown",
   "metadata": {},
   "source": [
    "## Zadanie 8:\n",
    "Zaprojektuj eksperyment, który odpowie na pytanie: \u0012czy transformery potra\u001cą oblicza¢ wartoś¢ XOR\u0011. Jaka jest Twoja intuicja dotycząca wyniku tego eksperymentu?"
   ]
  },
  {
   "cell_type": "markdown",
   "metadata": {},
   "source": [
    "## Zadanie 9 (2p):\n",
    "Powiedzmy, »e chcemy modelowa¢ za pomocą LM-u typu GPT (czyli autoregresywnego) kod w Pythonie. Odpowiedz na poni»sze pytania:\n",
    "1. Czy standardowa, trenowana tokenizacja jest tu optymalnym wyborem? Czy te» mo»e warto\n",
    "rozwa»y¢ jakąś jej mody\u001ckację (a je»eli tak, to jaką)\n",
    "2. Jak najlepiej obsłu»y¢ wcięcia w kodzie?\n",
    "3. Czym jest PEP-8? Czy mo»e on mie¢ jakieś u»ycie w tym zadaniu?\n",
    "4. Jakie są argumenty za tym, »e warto zmienia¢ nazwy zmiennych/funkcji/klas/... w kodzie\n",
    "(zachowując jego semantykę)?\n",
    "5. Jak metody NLP (word2vec?, transformery?, ...) mogą pomóc w zamianie nazw (podaj co\n",
    "najmniej dwa przykłady)\n",
    "6. Jak statyczna analiza kodu mo»e pomóc w tym zadaniu? (wystarczy jeden scenariusz)\n",
    "Mo»esz zadeklarowa¢ to zadanie za 1p, je»eli znasz odpowiedzi na większoś¢, ale nie wszystkie\n",
    "pytania"
   ]
  },
  {
   "cell_type": "markdown",
   "metadata": {},
   "source": [
    "## Zadanie 10 (*):\n",
    "Które z pooprzednich zadań nadają się na projekt/pracę dyplomową (oczywiście,\n",
    "gdyby je odpowiednio rozbudowa¢)? Jakie konieczne mody\u001ckacje nale»ałoby wprowadzi¢ (musisz\n",
    "wskaza¢ co najmniej jedno zadanie).\n",
    "\n",
    "## Zadanie 11 (2p *):\n",
    "Zaproponuj jakieś zadanie (niezwiązane z niniejszą listą zadań), nadające się\n",
    "(Twoim zdaniem) na projekt do naszego przedmiotu. Twój opis powinien by¢ zwięzły, niemniej\n",
    "w miarę jednoznacznie de\u001cniujący zadanie. Zgłoś je na forum na SKOSie (https://skos.ii.\n",
    "uni.wroc.pl/mod/forum/view.php?id=43738&forceview=1), postępując zgodnie z instrukcjami.\n",
    "Twoje zgłoszenie nie jest deklaracją, »e chcesz to zadanie robi¢, mówi jedynie, »e zadanie wydaje\n",
    "Ci się ciekawe i odpowiednie. Mo»e te» sta¢ się inspiracją dla innych. Je»eli częścią zadania jest\n",
    "trenowanie modelu, kluczowa jest wówczas kwestia opisania pozyskania danych (albo skorzystanie\n",
    "z istniejącego datasetu, albo stworzenie nowego, własnego zbioru danych)"
   ]
  }
 ],
 "metadata": {
  "language_info": {
   "name": "python"
  }
 },
 "nbformat": 4,
 "nbformat_minor": 2
}
